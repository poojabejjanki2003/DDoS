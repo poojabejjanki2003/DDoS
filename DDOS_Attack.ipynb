{
  "nbformat": 4,
  "nbformat_minor": 0,
  "metadata": {
    "colab": {
      "provenance": [],
      "authorship_tag": "ABX9TyMJH0VMidesgclIENNg4gq1",
      "include_colab_link": true
    },
    "kernelspec": {
      "name": "python3",
      "display_name": "Python 3"
    },
    "language_info": {
      "name": "python"
    }
  },
  "cells": [
    {
      "cell_type": "markdown",
      "metadata": {
        "id": "view-in-github",
        "colab_type": "text"
      },
      "source": [
        "<a href=\"https://colab.research.google.com/github/poojabejjanki2003/DDoS/blob/main/DDOS_Attack.ipynb\" target=\"_parent\"><img src=\"https://colab.research.google.com/assets/colab-badge.svg\" alt=\"Open In Colab\"/></a>"
      ]
    },
    {
      "cell_type": "code",
      "execution_count": 2,
      "metadata": {
        "id": "XXTi-Xxi10ri"
      },
      "outputs": [],
      "source": [
        "import math\n",
        "import random\n",
        "from collections import Counter\n",
        "from sklearn.metrics import accuracy_score"
      ]
    },
    {
      "cell_type": "code",
      "source": [
        "def generate_packets(packet_count, attack=False):\n",
        "    \"\"\"\n",
        "    Simulate data packet generation.\n",
        "    :param packet_count: Number of packets to generate.\n",
        "    :param attack: If True, simulate attack traffic.\n",
        "    :return: List of IP addresses.\n",
        "    \"\"\"\n",
        "    packets = []\n",
        "    if attack:\n",
        "        # Simulate DDoS attack by heavily using one source IP\n",
        "        attacker_ip = f\"192.168.1.{random.randint(1, 255)}\"\n",
        "        packets = [attacker_ip for _ in range(packet_count)]\n",
        "    else:\n",
        "        # Generate packets from random IPs\n",
        "        for _ in range(packet_count):\n",
        "            ip = f\"192.168.{random.randint(0, 255)}.{random.randint(1, 255)}\"\n",
        "            packets.append(ip)\n",
        "    return packets\n"
      ],
      "metadata": {
        "id": "4lhqSP8H2GMF"
      },
      "execution_count": 3,
      "outputs": []
    },
    {
      "cell_type": "code",
      "source": [
        "def compute_entropy(packets):\n",
        "    \"\"\"\n",
        "    Calculate the entropy of packet sources.\n",
        "    :param packets: List of IP addresses.\n",
        "    :return: Entropy value.\n",
        "    \"\"\"\n",
        "    total_packets = len(packets)\n",
        "    if total_packets == 0:\n",
        "        return 0\n",
        "    counter = Counter(packets)\n",
        "    probabilities = [count / total_packets for count in counter.values()]\n",
        "    entropy = -sum(p * math.log2(p) for p in probabilities)\n",
        "    return entropy\n"
      ],
      "metadata": {
        "id": "Co2JNrKE2MXf"
      },
      "execution_count": 4,
      "outputs": []
    },
    {
      "cell_type": "code",
      "source": [
        "def detect_ddos(entropy, threshold=2.5):\n",
        "    \"\"\"\n",
        "    Detect if traffic is a DDoS attack based on entropy.\n",
        "    :param entropy: Computed entropy.\n",
        "    :param threshold: Threshold for entropy.\n",
        "    :return: True if DDoS detected, False otherwise.\n",
        "    \"\"\"\n",
        "    return entropy < threshold\n"
      ],
      "metadata": {
        "id": "PRhA2dfE2Qxs"
      },
      "execution_count": 5,
      "outputs": []
    },
    {
      "cell_type": "code",
      "source": [
        "# Generate datasets\n",
        "normal_packets = generate_packets(1000, attack=False)\n",
        "attack_packets = generate_packets(1000, attack=True)\n",
        "\n",
        "# Calculate entropies\n",
        "normal_entropy = compute_entropy(normal_packets)\n",
        "attack_entropy = compute_entropy(attack_packets)\n",
        "\n",
        "# Predict outcomes\n",
        "normal_detection = detect_ddos(normal_entropy)\n",
        "attack_detection = detect_ddos(attack_entropy)\n",
        "\n",
        "# Evaluate accuracy using a simple labeled dataset\n",
        "true_labels = [0] * 1000 + [1] * 1000  # 0 for normal, 1 for attack\n",
        "predicted_labels = [detect_ddos(compute_entropy(generate_packets(100, attack=False))) for _ in range(1000)] + \\\n",
        "                   [detect_ddos(compute_entropy(generate_packets(100, attack=True))) for _ in range(1000)]\n",
        "\n",
        "accuracy = accuracy_score(true_labels, predicted_labels)\n",
        "print(f\"Accuracy of DDoS Detection: {accuracy * 100:.2f}%\")\n",
        "\n",
        "# Print entropy values and detection results\n",
        "print(f\"Normal Traffic Entropy: {normal_entropy:.2f}, Detected as DDoS: {normal_detection}\")\n",
        "print(f\"Attack Traffic Entropy: {attack_entropy:.2f}, Detected as DDoS: {attack_detection}\")\n"
      ],
      "metadata": {
        "id": "QVWRmZrI2Vo1",
        "outputId": "8ab6ba82-118b-4b87-b965-f260fb0923f0",
        "colab": {
          "base_uri": "https://localhost:8080/"
        }
      },
      "execution_count": 6,
      "outputs": [
        {
          "output_type": "stream",
          "name": "stdout",
          "text": [
            "Accuracy of DDoS Detection: 100.00%\n",
            "Normal Traffic Entropy: 9.96, Detected as DDoS: False\n",
            "Attack Traffic Entropy: -0.00, Detected as DDoS: True\n"
          ]
        }
      ]
    }
  ]
}